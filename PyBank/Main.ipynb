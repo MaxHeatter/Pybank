{
 "cells": [
  {
   "cell_type": "code",
   "execution_count": 1,
   "id": "62ee7c06-49a8-4691-b735-a265bc47a502",
   "metadata": {},
   "outputs": [],
   "source": [
    "# Import\n",
    "from pathlib import Path\n",
    "import csv"
   ]
  },
  {
   "cell_type": "code",
   "execution_count": 4,
   "id": "8ce31cf8-5ec0-4c5c-8e9f-a34d77dd7cf7",
   "metadata": {},
   "outputs": [],
   "source": [
    "# Set file path\n",
    "path = Path('Resources/budget_data.csv')"
   ]
  },
  {
   "cell_type": "code",
   "execution_count": 6,
   "id": "1db4d531-8b2b-4534-9890-1db441b1ec44",
   "metadata": {},
   "outputs": [],
   "source": [
    "# Initialize the lists\n",
    "pl = []\n",
    "month = []\n",
    "delta = []"
   ]
  },
  {
   "cell_type": "code",
   "execution_count": 7,
   "id": "a4249f47-2c58-43cb-8179-0af4ea1b7a69",
   "metadata": {},
   "outputs": [],
   "source": [
    "# Open csv file as an object and pass into csv.reader()\n",
    "with open(path, 'r') as csvfile:\n",
    "    csvreader = csv.reader(csvfile, delimiter=',')\n",
    "    csv_header = next(csvreader)\n",
    "    \n",
    "    # Make columns into lists (month=\"Date\", pl=\"Profit/losses\")\n",
    "    for column in csvreader:\n",
    "        pl.append(int(column[1]))\n",
    "        month.append(str(column[0]))"
   ]
  },
  {
   "cell_type": "code",
   "execution_count": 8,
   "id": "b018387e-ab24-4b31-93a7-96a7666f37e0",
   "metadata": {},
   "outputs": [],
   "source": [
    "# Calculate sun and length of 'pl' list\n",
    "total_pl = sum(pl)\n",
    "month_count = len(pl)"
   ]
  },
  {
   "cell_type": "code",
   "execution_count": 9,
   "id": "eddcd502-469e-41d2-96c5-2a256c202cea",
   "metadata": {},
   "outputs": [],
   "source": [
    "# Calculate profit/loss changes \n",
    "for i in range(month_count-1):\n",
    "    delta.append(pl[i+1]-pl[i])"
   ]
  },
  {
   "cell_type": "code",
   "execution_count": 10,
   "id": "a22f6ff2-3eed-474a-ace8-a92667613e43",
   "metadata": {},
   "outputs": [],
   "source": [
    "# Calculate the average of the delta list\n",
    "avg_change = round(sum(delta)/len(delta), 2)"
   ]
  },
  {
   "cell_type": "code",
   "execution_count": 13,
   "id": "0c1a784a-f8e1-417a-b315-d0311e28dddd",
   "metadata": {},
   "outputs": [],
   "source": [
    "# Calculate the maximum/minimum values in the delta list\n",
    "largest_increase = max(delta)\n",
    "largest_decrease = min(delta)"
   ]
  },
  {
   "cell_type": "code",
   "execution_count": 14,
   "id": "1ca667ef-3483-4515-be71-26b346cb3dd6",
   "metadata": {},
   "outputs": [],
   "source": [
    "# Find the indexes of the largest increase and decrease\n",
    "large_increase_index = delta.index(max(delta))\n",
    "large_decrease_index = delta.index(min(delta))"
   ]
  },
  {
   "cell_type": "code",
   "execution_count": 15,
   "id": "4d8925dc-c796-4c00-8819-aa0094ba2f92",
   "metadata": {},
   "outputs": [],
   "source": [
    "# Find the specific months at the above index \n",
    "best_month = month[large_increase_index+1]\n",
    "worst_month = month[large_decrease_index+1]"
   ]
  },
  {
   "cell_type": "code",
   "execution_count": 16,
   "id": "c15ce8b4-a217-4e04-8e4d-f8d486b1d1e8",
   "metadata": {},
   "outputs": [
    {
     "name": "stdout",
     "output_type": "stream",
     "text": [
      "Financial Analysis\n",
      "----------------------------\n",
      "Total Months: 86\n",
      "Total: 38382578\n",
      "Average Change: -2315.12\n",
      "Greatest Increase in Profits: Feb-2012 $(1926159)\n",
      "Greatest Decrease in Profits: Sep-2013 $(-2196167)\n"
     ]
    }
   ],
   "source": [
    "# Results\n",
    "print(\"Financial Analysis\")\n",
    "print(\"----------------------------\")\n",
    "print(f\"Total Months: {month_count}\")\n",
    "print(f\"Total: {total_pl}\")\n",
    "print(f\"Average Change: {avg_change}\")\n",
    "print(f\"Greatest Increase in Profits: {best_month} $({largest_increase})\")\n",
    "print(f\"Greatest Decrease in Profits: {worst_month} $({largest_decrease})\")"
   ]
  },
  {
   "cell_type": "code",
   "execution_count": 18,
   "id": "f35065a7-847b-4f08-9afd-90814a7524c8",
   "metadata": {},
   "outputs": [],
   "source": [
    "# Output Text file with results \n",
    "output_path = 'output.txt'\n",
    "with open(output_path, 'w') as csvout:\n",
    "    csvout.write(f\"Financial Analysis\\n\")\n",
    "    csvout.write(f\"----------------------------\\n\")\n",
    "    csvout.write(f\"Total Months: {month_count}\\n\") \n",
    "    csvout.write(f\"Total: {total_pl}\\n\")\n",
    "    csvout.write(f\"Average Change: {avg_change}\\n\")\n",
    "    csvout.write(f\"Greatest Increase in Profits: {best_month} $({biggest_increase})\\n\")\n",
    "    csvout.write(f\"Greatest Decrease in Profits: {worst_month} $({biggest_decrease})\\n\")"
   ]
  },
  {
   "cell_type": "code",
   "execution_count": null,
   "id": "61fd7afc-89ba-42a4-8cdb-bebc16e35841",
   "metadata": {},
   "outputs": [],
   "source": []
  }
 ],
 "metadata": {
  "kernelspec": {
   "display_name": "Python 3 (ipykernel)",
   "language": "python",
   "name": "python3"
  },
  "language_info": {
   "codemirror_mode": {
    "name": "ipython",
    "version": 3
   },
   "file_extension": ".py",
   "mimetype": "text/x-python",
   "name": "python",
   "nbconvert_exporter": "python",
   "pygments_lexer": "ipython3",
   "version": "3.9.12"
  }
 },
 "nbformat": 4,
 "nbformat_minor": 5
}
